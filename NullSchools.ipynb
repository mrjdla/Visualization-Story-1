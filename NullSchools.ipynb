{
 "cells": [
  {
   "cell_type": "code",
   "execution_count": 25,
   "metadata": {},
   "outputs": [],
   "source": [
    "library(dplyr)"
   ]
  },
  {
   "cell_type": "markdown",
   "metadata": {},
   "source": [
    "First we'll import it but set blanks to be NULL, which means there's nothing there. "
   ]
  },
  {
   "cell_type": "code",
   "execution_count": 31,
   "metadata": {},
   "outputs": [],
   "source": [
    "lunches <- read.csv(\"lunch.csv\", na.strings=\"\")"
   ]
  },
  {
   "cell_type": "code",
   "execution_count": null,
   "metadata": {},
   "outputs": [],
   "source": [
    "head(lunches)"
   ]
  },
  {
   "cell_type": "markdown",
   "metadata": {},
   "source": [
    "Now we'll create a dataframe that omits NULL values so you have just schools that have free and reduced lunch data in it. "
   ]
  },
  {
   "cell_type": "code",
   "execution_count": 28,
   "metadata": {},
   "outputs": [],
   "source": [
    "schools <- lunches %>% na.omit()"
   ]
  },
  {
   "cell_type": "code",
   "execution_count": 29,
   "metadata": {},
   "outputs": [
    {
     "data": {
      "text/html": [
       "<table>\n",
       "<thead><tr><th></th><th scope=col>FY</th><th scope=col>COUNTY</th><th scope=col>CODISTSCH</th><th scope=col>DISTRICTLNAME</th><th scope=col>TOTAL</th><th scope=col>FREELUNCH</th><th scope=col>REDUCEDLUNCH</th><th scope=col>FREEREDUCEDLUNCH</th><th scope=col>PERCENT</th></tr></thead>\n",
       "<tbody>\n",
       "\t<tr><th scope=row>1</th><td>2017-2018                   </td><td>ADAMS                       </td><td>10003000                    </td><td>KENESAW PUBLIC SCHOOLS      </td><td> 271                        </td><td>  54                        </td><td> 24                         </td><td>  78                        </td><td>28.78                       </td></tr>\n",
       "\t<tr><th scope=row>2</th><td>2017-2018                   </td><td>ADAMS                       </td><td>10018000                    </td><td>HASTINGS PUBLIC SCHOOLS     </td><td>3740                        </td><td>1828                        </td><td>437                         </td><td>2265                        </td><td>60.56                       </td></tr>\n",
       "\t<tr><th scope=row>3</th><td>2017-2018                   </td><td>ADAMS                       </td><td>10090000                    </td><td>ADAMS CENTRAL PUBLIC SCHOOLS</td><td> 921                        </td><td> 120                        </td><td> 69                         </td><td> 189                        </td><td>20.52                       </td></tr>\n",
       "\t<tr><th scope=row>4</th><td>2017-2018                   </td><td>ADAMS                       </td><td>10123000                    </td><td>SILVER LAKE PUBLIC SCHOOLS  </td><td> 255                        </td><td>  65                        </td><td> 41                         </td><td> 106                        </td><td>41.57                       </td></tr>\n",
       "\t<tr><th scope=row>6</th><td>2017-2018                   </td><td>ADAMS                       </td><td>10702000                    </td><td>HASTINGS CATHOLIC SCHOOLS   </td><td> 474                        </td><td>  40                        </td><td> 26                         </td><td>  66                        </td><td>13.92                       </td></tr>\n",
       "\t<tr><th scope=row>8</th><td>2017-2018                   </td><td>ANTELOPE                    </td><td>20009000                    </td><td>NELIGH-OAKDALE SCHOOLS      </td><td> 383                        </td><td> 112                        </td><td> 43                         </td><td> 155                        </td><td>40.47                       </td></tr>\n",
       "</tbody>\n",
       "</table>\n"
      ],
      "text/latex": [
       "\\begin{tabular}{r|lllllllll}\n",
       "  & FY & COUNTY & CODISTSCH & DISTRICTLNAME & TOTAL & FREELUNCH & REDUCEDLUNCH & FREEREDUCEDLUNCH & PERCENT\\\\\n",
       "\\hline\n",
       "\t1 & 2017-2018                    & ADAMS                        & 10003000                     & KENESAW PUBLIC SCHOOLS       &  271                         &   54                         &  24                          &   78                         & 28.78                       \\\\\n",
       "\t2 & 2017-2018                    & ADAMS                        & 10018000                     & HASTINGS PUBLIC SCHOOLS      & 3740                         & 1828                         & 437                          & 2265                         & 60.56                       \\\\\n",
       "\t3 & 2017-2018                    & ADAMS                        & 10090000                     & ADAMS CENTRAL PUBLIC SCHOOLS &  921                         &  120                         &  69                          &  189                         & 20.52                       \\\\\n",
       "\t4 & 2017-2018                    & ADAMS                        & 10123000                     & SILVER LAKE PUBLIC SCHOOLS   &  255                         &   65                         &  41                          &  106                         & 41.57                       \\\\\n",
       "\t6 & 2017-2018                    & ADAMS                        & 10702000                     & HASTINGS CATHOLIC SCHOOLS    &  474                         &   40                         &  26                          &   66                         & 13.92                       \\\\\n",
       "\t8 & 2017-2018                    & ANTELOPE                     & 20009000                     & NELIGH-OAKDALE SCHOOLS       &  383                         &  112                         &  43                          &  155                         & 40.47                       \\\\\n",
       "\\end{tabular}\n"
      ],
      "text/markdown": [
       "\n",
       "| <!--/--> | FY | COUNTY | CODISTSCH | DISTRICTLNAME | TOTAL | FREELUNCH | REDUCEDLUNCH | FREEREDUCEDLUNCH | PERCENT | \n",
       "|---|---|---|---|---|---|\n",
       "| 1 | 2017-2018                    | ADAMS                        | 10003000                     | KENESAW PUBLIC SCHOOLS       |  271                         |   54                         |  24                          |   78                         | 28.78                        | \n",
       "| 2 | 2017-2018                    | ADAMS                        | 10018000                     | HASTINGS PUBLIC SCHOOLS      | 3740                         | 1828                         | 437                          | 2265                         | 60.56                        | \n",
       "| 3 | 2017-2018                    | ADAMS                        | 10090000                     | ADAMS CENTRAL PUBLIC SCHOOLS |  921                         |  120                         |  69                          |  189                         | 20.52                        | \n",
       "| 4 | 2017-2018                    | ADAMS                        | 10123000                     | SILVER LAKE PUBLIC SCHOOLS   |  255                         |   65                         |  41                          |  106                         | 41.57                        | \n",
       "| 6 | 2017-2018                    | ADAMS                        | 10702000                     | HASTINGS CATHOLIC SCHOOLS    |  474                         |   40                         |  26                          |   66                         | 13.92                        | \n",
       "| 8 | 2017-2018                    | ANTELOPE                     | 20009000                     | NELIGH-OAKDALE SCHOOLS       |  383                         |  112                         |  43                          |  155                         | 40.47                        | \n",
       "\n",
       "\n"
      ],
      "text/plain": [
       "  FY        COUNTY   CODISTSCH DISTRICTLNAME                TOTAL FREELUNCH\n",
       "1 2017-2018 ADAMS    10003000  KENESAW PUBLIC SCHOOLS        271    54     \n",
       "2 2017-2018 ADAMS    10018000  HASTINGS PUBLIC SCHOOLS      3740  1828     \n",
       "3 2017-2018 ADAMS    10090000  ADAMS CENTRAL PUBLIC SCHOOLS  921   120     \n",
       "4 2017-2018 ADAMS    10123000  SILVER LAKE PUBLIC SCHOOLS    255    65     \n",
       "6 2017-2018 ADAMS    10702000  HASTINGS CATHOLIC SCHOOLS     474    40     \n",
       "8 2017-2018 ANTELOPE 20009000  NELIGH-OAKDALE SCHOOLS        383   112     \n",
       "  REDUCEDLUNCH FREEREDUCEDLUNCH PERCENT\n",
       "1  24            78             28.78  \n",
       "2 437          2265             60.56  \n",
       "3  69           189             20.52  \n",
       "4  41           106             41.57  \n",
       "6  26            66             13.92  \n",
       "8  43           155             40.47  "
      ]
     },
     "metadata": {},
     "output_type": "display_data"
    }
   ],
   "source": [
    "head(schools)"
   ]
  },
  {
   "cell_type": "code",
   "execution_count": 30,
   "metadata": {},
   "outputs": [
    {
     "name": "stdout",
     "output_type": "stream",
     "text": [
      "'data.frame':\t1451 obs. of  9 variables:\n",
      " $ FY              : Factor w/ 5 levels \"2013-2014\",\"2014-2015\",..: 5 5 5 5 5 5 5 5 5 5 ...\n",
      " $ COUNTY          : Factor w/ 93 levels \"ADAMS\",\"ANTELOPE\",..: 1 1 1 1 1 2 2 2 4 5 ...\n",
      " $ CODISTSCH       : int  10003000 10018000 10090000 10123000 10702000 20009000 20018000 22001000 40001000 50071000 ...\n",
      " $ DISTRICTLNAME   : Factor w/ 810 levels \"ADAMS CENTRAL PUBLIC SCHOOLS\",..: 327 274 1 580 272 438 190 436 47 557 ...\n",
      " $ TOTAL           : num  271 3740 921 255 474 383 170 448 150 90 ...\n",
      " $ FREELUNCH       : num  54 1828 120 65 40 ...\n",
      " $ REDUCEDLUNCH    : int  24 437 69 41 26 43 21 69 18 12 ...\n",
      " $ FREEREDUCEDLUNCH: int  78 2265 189 106 66 155 87 210 91 45 ...\n",
      " $ PERCENT         : num  28.8 60.6 20.5 41.6 13.9 ...\n",
      " - attr(*, \"na.action\")=Class 'omit'  Named int [1:756] 5 7 10 11 13 19 22 33 34 35 ...\n",
      "  .. ..- attr(*, \"names\")= chr [1:756] \"5\" \"7\" \"10\" \"11\" ...\n"
     ]
    }
   ],
   "source": [
    "str(schools)"
   ]
  },
  {
   "cell_type": "markdown",
   "metadata": {},
   "source": [
    "Now you should be good to go."
   ]
  },
  {
   "cell_type": "code",
   "execution_count": null,
   "metadata": {},
   "outputs": [],
   "source": []
  }
 ],
 "metadata": {
  "anaconda-cloud": {},
  "kernelspec": {
   "display_name": "R",
   "language": "R",
   "name": "ir"
  },
  "language_info": {
   "codemirror_mode": "r",
   "file_extension": ".r",
   "mimetype": "text/x-r-source",
   "name": "R",
   "pygments_lexer": "r",
   "version": "3.4.3"
  }
 },
 "nbformat": 4,
 "nbformat_minor": 1
}
